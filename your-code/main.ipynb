{
 "cells": [
  {
   "cell_type": "markdown",
   "metadata": {},
   "source": [
    "# Before your start:\n",
    "- Read the README.md file\n",
    "- Comment as much as you can and use the resources (README.md file)\n",
    "- Happy learning!"
   ]
  },
  {
   "cell_type": "code",
   "execution_count": 32,
   "metadata": {},
   "outputs": [],
   "source": [
    "# import numpy and pandas\n",
    "import numpy as np\n",
    "import pandas as pd\n",
    "\n",
    "from scipy.stats import ttest_ind\n",
    "from scipy.stats import ttest_rel\n",
    "from scipy.stats import ttest_1samp\n",
    "from scipy.stats import chi2_contingency"
   ]
  },
  {
   "cell_type": "markdown",
   "metadata": {},
   "source": [
    "# Challenge 1 - Independent Sample T-tests\n",
    "\n",
    "In this challenge, we will be using the Pokemon dataset. Before applying statistical methods to this data, let's first examine the data.\n",
    "\n",
    "To load the data, run the code below."
   ]
  },
  {
   "cell_type": "code",
   "execution_count": 2,
   "metadata": {},
   "outputs": [],
   "source": [
    "# Run this code:\n",
    "pokemon = pd.read_csv('../pokemon.csv')"
   ]
  },
  {
   "cell_type": "markdown",
   "metadata": {},
   "source": [
    "Let's start off by looking at the `head` function in the cell below."
   ]
  },
  {
   "cell_type": "code",
   "execution_count": 3,
   "metadata": {},
   "outputs": [
    {
     "output_type": "execute_result",
     "data": {
      "text/plain": "   #                   Name Type 1  Type 2  Total  HP  Attack  Defense  \\\n0  1              Bulbasaur  Grass  Poison    318  45      49       49   \n1  2                Ivysaur  Grass  Poison    405  60      62       63   \n2  3               Venusaur  Grass  Poison    525  80      82       83   \n3  3  VenusaurMega Venusaur  Grass  Poison    625  80     100      123   \n4  4             Charmander   Fire     NaN    309  39      52       43   \n\n   Sp. Atk  Sp. Def  Speed  Generation  Legendary  \n0       65       65     45           1      False  \n1       80       80     60           1      False  \n2      100      100     80           1      False  \n3      122      120     80           1      False  \n4       60       50     65           1      False  ",
      "text/html": "<div>\n<style scoped>\n    .dataframe tbody tr th:only-of-type {\n        vertical-align: middle;\n    }\n\n    .dataframe tbody tr th {\n        vertical-align: top;\n    }\n\n    .dataframe thead th {\n        text-align: right;\n    }\n</style>\n<table border=\"1\" class=\"dataframe\">\n  <thead>\n    <tr style=\"text-align: right;\">\n      <th></th>\n      <th>#</th>\n      <th>Name</th>\n      <th>Type 1</th>\n      <th>Type 2</th>\n      <th>Total</th>\n      <th>HP</th>\n      <th>Attack</th>\n      <th>Defense</th>\n      <th>Sp. Atk</th>\n      <th>Sp. Def</th>\n      <th>Speed</th>\n      <th>Generation</th>\n      <th>Legendary</th>\n    </tr>\n  </thead>\n  <tbody>\n    <tr>\n      <th>0</th>\n      <td>1</td>\n      <td>Bulbasaur</td>\n      <td>Grass</td>\n      <td>Poison</td>\n      <td>318</td>\n      <td>45</td>\n      <td>49</td>\n      <td>49</td>\n      <td>65</td>\n      <td>65</td>\n      <td>45</td>\n      <td>1</td>\n      <td>False</td>\n    </tr>\n    <tr>\n      <th>1</th>\n      <td>2</td>\n      <td>Ivysaur</td>\n      <td>Grass</td>\n      <td>Poison</td>\n      <td>405</td>\n      <td>60</td>\n      <td>62</td>\n      <td>63</td>\n      <td>80</td>\n      <td>80</td>\n      <td>60</td>\n      <td>1</td>\n      <td>False</td>\n    </tr>\n    <tr>\n      <th>2</th>\n      <td>3</td>\n      <td>Venusaur</td>\n      <td>Grass</td>\n      <td>Poison</td>\n      <td>525</td>\n      <td>80</td>\n      <td>82</td>\n      <td>83</td>\n      <td>100</td>\n      <td>100</td>\n      <td>80</td>\n      <td>1</td>\n      <td>False</td>\n    </tr>\n    <tr>\n      <th>3</th>\n      <td>3</td>\n      <td>VenusaurMega Venusaur</td>\n      <td>Grass</td>\n      <td>Poison</td>\n      <td>625</td>\n      <td>80</td>\n      <td>100</td>\n      <td>123</td>\n      <td>122</td>\n      <td>120</td>\n      <td>80</td>\n      <td>1</td>\n      <td>False</td>\n    </tr>\n    <tr>\n      <th>4</th>\n      <td>4</td>\n      <td>Charmander</td>\n      <td>Fire</td>\n      <td>NaN</td>\n      <td>309</td>\n      <td>39</td>\n      <td>52</td>\n      <td>43</td>\n      <td>60</td>\n      <td>50</td>\n      <td>65</td>\n      <td>1</td>\n      <td>False</td>\n    </tr>\n  </tbody>\n</table>\n</div>"
     },
     "metadata": {},
     "execution_count": 3
    }
   ],
   "source": [
    "# Your code here:\n",
    "pokemon.head()"
   ]
  },
  {
   "cell_type": "markdown",
   "metadata": {},
   "source": [
    "The first thing we would like to do is compare the legendary Pokemon to the regular Pokemon. To do this, we should examine the data further. What is the count of legendary vs. non legendary Pokemons?"
   ]
  },
  {
   "cell_type": "code",
   "execution_count": 5,
   "metadata": {
    "tags": []
   },
   "outputs": [
    {
     "output_type": "stream",
     "name": "stdout",
     "text": "There are 735 Regular Pokemons, and 65 Legendary ones.\n"
    }
   ],
   "source": [
    "# Your code here:\n",
    "regular_pokemon = pokemon[pokemon['Legendary'] == False]\n",
    "legendary_pokemon = pokemon[pokemon['Legendary'] == True]\n",
    "\n",
    "print('There are {} Regular Pokemons, and {} Legendary ones.'.format(len(regular_pokemon), len(legendary_pokemon)))"
   ]
  },
  {
   "cell_type": "markdown",
   "metadata": {},
   "source": [
    "Compute the mean and standard deviation of the total points for both legendary and non-legendary Pokemon."
   ]
  },
  {
   "cell_type": "code",
   "execution_count": 9,
   "metadata": {
    "tags": []
   },
   "outputs": [
    {
     "output_type": "stream",
     "name": "stdout",
     "text": "count    735.000000\nmean     417.213605\nstd      106.760417\nmin      180.000000\n25%      324.000000\n50%      425.000000\n75%      498.000000\nmax      700.000000\nName: Total, dtype: float64\n\n\ncount     65.000000\nmean     637.384615\nstd       60.937389\nmin      580.000000\n25%      580.000000\n50%      600.000000\n75%      680.000000\nmax      780.000000\nName: Total, dtype: float64\n"
    }
   ],
   "source": [
    "# Your code here:\n",
    "print(regular_pokemon.Total.describe())\n",
    "print('\\n')\n",
    "print(legendary_pokemon.Total.describe())"
   ]
  },
  {
   "cell_type": "markdown",
   "metadata": {},
   "source": [
    "The computation of the mean might give us a clue regarding how the statistical test may turn out; However, it certainly does not prove whether there is a significant difference between the two groups.\n",
    "\n",
    "In the cell below, use the `ttest_ind` function in `scipy.stats` to compare the the total points for legendary and non-legendary Pokemon. Since we do not have any information about the population, assume the variances are not equal."
   ]
  },
  {
   "cell_type": "code",
   "execution_count": 16,
   "metadata": {
    "tags": []
   },
   "outputs": [
    {
     "output_type": "stream",
     "name": "stdout",
     "text": "Since our pval, 9.358e-47, is less than 0.05, we reject the Null Hypothesis, thus there is no statistical evidence to say that the means of these groups are equal\n"
    }
   ],
   "source": [
    "# Your code here:\n",
    "\n",
    "t, pval = ttest_ind(regular_pokemon.Total, legendary_pokemon.Total, equal_var=False)\n",
    "\n",
    "if pval < .05:\n",
    "    print('Since our pval, {:0.05}, is less than 0.05, we reject the Null Hypothesis, thus there is no statistical evidence to say that the means of these groups are equal'.format(pval))\n",
    "else:\n",
    "    print('Since our pval, {:0.05}, is greater than 0.05, we accept the Null Hypothesis, thus there is statistical evidence to say that the means of these groups are equal'.format(pval))"
   ]
  },
  {
   "cell_type": "markdown",
   "metadata": {},
   "source": [
    "What do you conclude from this test? Write your conclusions below."
   ]
  },
  {
   "cell_type": "code",
   "execution_count": 6,
   "metadata": {},
   "outputs": [],
   "source": [
    "# Your conclusions here:\n",
    "\n",
    "# Since our pval, 9.358e-47, is less than 0.05, we reject the Null Hypothesis, thus there is no statistical evidence to say that the means of these groups are equal"
   ]
  },
  {
   "cell_type": "markdown",
   "metadata": {},
   "source": [
    "How about we try to compare the different types of pokemon? In the cell below, list the types of Pokemon from column `Type 1` and the count of each type."
   ]
  },
  {
   "cell_type": "code",
   "execution_count": 17,
   "metadata": {},
   "outputs": [
    {
     "output_type": "execute_result",
     "data": {
      "text/plain": "Water       112\nNormal       98\nGrass        70\nBug          69\nPsychic      57\nFire         52\nRock         44\nElectric     44\nGhost        32\nGround       32\nDragon       32\nDark         31\nPoison       28\nSteel        27\nFighting     27\nIce          24\nFairy        17\nFlying        4\nName: Type 1, dtype: int64"
     },
     "metadata": {},
     "execution_count": 17
    }
   ],
   "source": [
    "# Your code here:\n",
    "pokemon['Type 1'].value_counts()"
   ]
  },
  {
   "cell_type": "markdown",
   "metadata": {},
   "source": [
    "Since water is the largest group of Pokemon, compare the mean and standard deviation of water Pokemon to all other Pokemon."
   ]
  },
  {
   "cell_type": "code",
   "execution_count": 21,
   "metadata": {
    "tags": []
   },
   "outputs": [
    {
     "output_type": "stream",
     "name": "stdout",
     "text": "The difference in means is -5.4, and the difference in standard deviation is -7.9.\n"
    }
   ],
   "source": [
    "# Your code here:\n",
    "\n",
    "water_pokemon = pokemon[pokemon['Type 1'] == 'Water']\n",
    "water_pokemon.Total.mean()\n",
    "water_pokemon.Total.std()\n",
    "\n",
    "nonwater_pokemon = pokemon[pokemon['Type 1'] != 'Water']\n",
    "nonwater_pokemon.Total.mean()\n",
    "nonwater_pokemon.Total.std()\n",
    "\n",
    "mean_diff = water_pokemon.Total.mean() - nonwater_pokemon.Total.mean()\n",
    "std_diff = water_pokemon.Total.std() - nonwater_pokemon.Total.std()\n",
    "\n",
    "\n",
    "print('The difference in means is {:0.2}, and the difference in standard deviation is {:0.2}.'.format(mean_diff, std_diff))"
   ]
  },
  {
   "cell_type": "markdown",
   "metadata": {},
   "source": [
    "Perform a hypothesis test comparing the mean of total points for water Pokemon to all non-water Pokemon. Assume the variances are equal. "
   ]
  },
  {
   "cell_type": "code",
   "execution_count": 22,
   "metadata": {
    "tags": []
   },
   "outputs": [
    {
     "output_type": "stream",
     "name": "stdout",
     "text": "Since our pval, 0.64339, is greater than 0.05, we accept the Null Hypothesis, thus there is statistical evidence to say that the means of these groups are equal\n"
    }
   ],
   "source": [
    "# Your code here:\n",
    "\n",
    "t, pval = ttest_ind(water_pokemon.Total, nonwater_pokemon.Total, equal_var=False)\n",
    "\n",
    "if pval < .05:\n",
    "    print('Since our pval, {:0.05}, is less than 0.05, we reject the Null Hypothesis, thus there is no statistical evidence to say that the means of these groups are equal'.format(pval))\n",
    "else:\n",
    "    print('Since our pval, {:0.05}, is greater than 0.05, we accept the Null Hypothesis, thus there is statistical evidence to say that the means of these groups are equal'.format(pval))"
   ]
  },
  {
   "cell_type": "markdown",
   "metadata": {},
   "source": [
    "Write your conclusion below."
   ]
  },
  {
   "cell_type": "code",
   "execution_count": 10,
   "metadata": {},
   "outputs": [],
   "source": [
    "# Your conclusions here:\n",
    "Since our pval, 0.64339, is greater than 0.05, we accept the Null Hypothesis, thus there is statistical evidence to say that the means of these groups are equal"
   ]
  },
  {
   "cell_type": "markdown",
   "metadata": {},
   "source": [
    "# Challenge 2 - Matched Pairs Test\n",
    "\n",
    "In this challenge we will compare dependent samples of data describing our Pokemon. Our goal is to see whether there is a significant difference between each Pokemon's defense and attack scores. Our hypothesis is that the defense and attack scores are equal. In the cell below, import the `ttest_rel` function from `scipy.stats` and compare the two columns to see if there is a statistically significant difference between them."
   ]
  },
  {
   "cell_type": "code",
   "execution_count": 25,
   "metadata": {
    "tags": []
   },
   "outputs": [
    {
     "output_type": "stream",
     "name": "stdout",
     "text": "Since our pval, 1.714e-05, is less than 0.05, we reject the Null Hypothesis, thus there is a statistically significant difference between them\n"
    }
   ],
   "source": [
    "# Your code here:\n",
    "t, pval = ttest_rel(pokemon.Attack, pokemon.Defense)\n",
    "\n",
    "if pval < .05:\n",
    "    print('Since our pval, {:0.05}, is less than 0.05, we reject the Null Hypothesis, thus there is a statistically significant difference between them'.format(pval))\n",
    "else:\n",
    "    print('Since our pval, {:0.05}, is greater than 0.05, we accept the Null Hypothesis, thus  there is not a statistically significant difference between them'.format(pval))"
   ]
  },
  {
   "cell_type": "markdown",
   "metadata": {},
   "source": [
    "Describe the results of the test in the cell below."
   ]
  },
  {
   "cell_type": "code",
   "execution_count": 12,
   "metadata": {},
   "outputs": [],
   "source": [
    "# Your conclusions here:\n",
    "\n",
    "# Since our pval, 1.714e-05, is less than 0.05, we reject the Null Hypothesis, thus there is a statistically significant difference between them."
   ]
  },
  {
   "cell_type": "markdown",
   "metadata": {},
   "source": [
    "We are also curious about whether therer is a significant difference between the mean of special defense and the mean of special attack. Perform the hypothesis test in the cell below. "
   ]
  },
  {
   "cell_type": "code",
   "execution_count": 26,
   "metadata": {
    "tags": []
   },
   "outputs": [
    {
     "output_type": "stream",
     "name": "stdout",
     "text": "Since our pval, 1.714e-05, is less than 0.05, we reject the Null Hypothesis, thus there is a statistically significant difference between them\n"
    }
   ],
   "source": [
    "# Your code here:\n",
    "\n",
    "t, pvalue = ttest_rel(pokemon['Sp. Atk'], pokemon['Sp. Def'])\n",
    "\n",
    "if pval < .05:\n",
    "    print('Since our pval, {:0.05}, is less than 0.05, we reject the Null Hypothesis, thus there is a statistically significant difference between them'.format(pval))\n",
    "else:\n",
    "    print('Since our pval, {:0.05}, is greater than 0.05, we accept the Null Hypothesis, thus  there is not a statistically significant difference between them'.format(pval))"
   ]
  },
  {
   "cell_type": "markdown",
   "metadata": {},
   "source": [
    "Describe the results of the test in the cell below."
   ]
  },
  {
   "cell_type": "code",
   "execution_count": 14,
   "metadata": {},
   "outputs": [],
   "source": [
    "# Your conclusions here:\n",
    "\n",
    "# Since our pval, 1.714e-05, is less than 0.05, we reject the Null Hypothesis, thus there is a statistically significant difference between them"
   ]
  },
  {
   "cell_type": "markdown",
   "metadata": {},
   "source": [
    "As you may recall, a two sample matched pairs test can also be expressed as a one sample test of the difference between the two dependent columns.\n",
    "\n",
    "Import the `ttest_1samp` function and perform a one sample t-test of the difference between defense and attack. Test the hypothesis that the difference between the means is zero. Confirm that the results of the test are the same."
   ]
  },
  {
   "cell_type": "code",
   "execution_count": 29,
   "metadata": {},
   "outputs": [
    {
     "output_type": "execute_result",
     "data": {
      "text/plain": "0.00171"
     },
     "metadata": {},
     "execution_count": 29
    }
   ],
   "source": [
    "# Your code here:\n",
    "\n",
    "# Mu = 0 \n",
    "pob = 0 \n",
    "\n",
    "# Test\n",
    "t, pvalue = ttest_1samp(pokemon.Attack-pokemon.Defense, pob)  \n",
    "\n",
    "# Pval\n",
    "round(pvalue*100,5) # Same as before."
   ]
  },
  {
   "cell_type": "markdown",
   "metadata": {},
   "source": [
    "# Bonus Challenge - The Chi-Square Test\n",
    "\n",
    "The Chi-Square test is used to determine whether there is a statistically significant difference in frequencies. In other words, we are testing whether there is a relationship between categorical variables or rather when the variables are independent. This test is an alternative to Fisher's exact test and is used in scenarios where sample sizes are larger. However, with a large enough sample size, both tests produce similar results. Read more about the Chi Squared test [here](https://en.wikipedia.org/wiki/Chi-squared_test).\n",
    "\n",
    "In the cell below, create a contingency table using `pd.crosstab` comparing whether a Pokemon is legenadary or not and whether the Type 1 of a Pokemon is water or not."
   ]
  },
  {
   "cell_type": "code",
   "execution_count": 30,
   "metadata": {},
   "outputs": [
    {
     "output_type": "execute_result",
     "data": {
      "text/plain": "Type 1     Bug  Dark  Dragon  Electric  Fairy  Fighting  Fire  Flying  Ghost  \\\nLegendary                                                                      \nFalse       69    29      20        40     16        27    47       2     30   \nTrue         0     2      12         4      1         0     5       2      2   \nTotal       69    31      32        44     17        27    52       4     32   \n\nType 1     Grass  Ground  Ice  Normal  Poison  Psychic  Rock  Steel  Water  \\\nLegendary                                                                    \nFalse         67      28   22      96      28       43    40     23    108   \nTrue           3       4    2       2       0       14     4      4      4   \nTotal         70      32   24      98      28       57    44     27    112   \n\nType 1     Total  \nLegendary         \nFalse        735  \nTrue          65  \nTotal        800  ",
      "text/html": "<div>\n<style scoped>\n    .dataframe tbody tr th:only-of-type {\n        vertical-align: middle;\n    }\n\n    .dataframe tbody tr th {\n        vertical-align: top;\n    }\n\n    .dataframe thead th {\n        text-align: right;\n    }\n</style>\n<table border=\"1\" class=\"dataframe\">\n  <thead>\n    <tr style=\"text-align: right;\">\n      <th>Type 1</th>\n      <th>Bug</th>\n      <th>Dark</th>\n      <th>Dragon</th>\n      <th>Electric</th>\n      <th>Fairy</th>\n      <th>Fighting</th>\n      <th>Fire</th>\n      <th>Flying</th>\n      <th>Ghost</th>\n      <th>Grass</th>\n      <th>Ground</th>\n      <th>Ice</th>\n      <th>Normal</th>\n      <th>Poison</th>\n      <th>Psychic</th>\n      <th>Rock</th>\n      <th>Steel</th>\n      <th>Water</th>\n      <th>Total</th>\n    </tr>\n    <tr>\n      <th>Legendary</th>\n      <th></th>\n      <th></th>\n      <th></th>\n      <th></th>\n      <th></th>\n      <th></th>\n      <th></th>\n      <th></th>\n      <th></th>\n      <th></th>\n      <th></th>\n      <th></th>\n      <th></th>\n      <th></th>\n      <th></th>\n      <th></th>\n      <th></th>\n      <th></th>\n      <th></th>\n    </tr>\n  </thead>\n  <tbody>\n    <tr>\n      <th>False</th>\n      <td>69</td>\n      <td>29</td>\n      <td>20</td>\n      <td>40</td>\n      <td>16</td>\n      <td>27</td>\n      <td>47</td>\n      <td>2</td>\n      <td>30</td>\n      <td>67</td>\n      <td>28</td>\n      <td>22</td>\n      <td>96</td>\n      <td>28</td>\n      <td>43</td>\n      <td>40</td>\n      <td>23</td>\n      <td>108</td>\n      <td>735</td>\n    </tr>\n    <tr>\n      <th>True</th>\n      <td>0</td>\n      <td>2</td>\n      <td>12</td>\n      <td>4</td>\n      <td>1</td>\n      <td>0</td>\n      <td>5</td>\n      <td>2</td>\n      <td>2</td>\n      <td>3</td>\n      <td>4</td>\n      <td>2</td>\n      <td>2</td>\n      <td>0</td>\n      <td>14</td>\n      <td>4</td>\n      <td>4</td>\n      <td>4</td>\n      <td>65</td>\n    </tr>\n    <tr>\n      <th>Total</th>\n      <td>69</td>\n      <td>31</td>\n      <td>32</td>\n      <td>44</td>\n      <td>17</td>\n      <td>27</td>\n      <td>52</td>\n      <td>4</td>\n      <td>32</td>\n      <td>70</td>\n      <td>32</td>\n      <td>24</td>\n      <td>98</td>\n      <td>28</td>\n      <td>57</td>\n      <td>44</td>\n      <td>27</td>\n      <td>112</td>\n      <td>800</td>\n    </tr>\n  </tbody>\n</table>\n</div>"
     },
     "metadata": {},
     "execution_count": 30
    }
   ],
   "source": [
    "# Your code here:\n",
    "\n",
    "ctab = pd.crosstab(pokemon['Legendary'], pokemon['Type 1'], margins=True, margins_name=\"Total\")\n",
    "ctab"
   ]
  },
  {
   "cell_type": "markdown",
   "metadata": {},
   "source": [
    "Perform a chi-squared test using the `chi2_contingency` function in `scipy.stats`. You can read the documentation of the function [here](https://docs.scipy.org/doc/scipy-0.15.1/reference/generated/scipy.stats.chi2_contingency.html)."
   ]
  },
  {
   "cell_type": "code",
   "execution_count": 35,
   "metadata": {
    "tags": []
   },
   "outputs": [
    {
     "output_type": "stream",
     "name": "stdout",
     "text": "Since our pval, 1.4122e-06, is less than 0.05, we reject the Null Hypothesis, thus there is a statistically significant difference in frequencies between them\n"
    }
   ],
   "source": [
    "# Your code here:\n",
    "\n",
    "chi2, pval, dof, expected = chi2_contingency(ctab, correction=True, lambda_=None)\n",
    "\n",
    "if pval < .05:\n",
    "    print('Since our pval, {:0.05}, is less than 0.05, we reject the Null Hypothesis, thus there is a statistically significant difference in frequencies between them'.format(pval))\n",
    "else:\n",
    "    print('Since our pval, {:0.05}, is greater than 0.05, we accept the Null Hypothesis, thus  there is not a statistically significant difference in frequencies between them'.format(pval))"
   ]
  },
  {
   "cell_type": "markdown",
   "metadata": {},
   "source": [
    "Based on a 95% confidence, should we reject the null hypothesis?"
   ]
  },
  {
   "cell_type": "code",
   "execution_count": 19,
   "metadata": {},
   "outputs": [],
   "source": [
    "# Your answer here:\n",
    "\n",
    "# Since our pval, 1.4122e-06, is less than 0.05, we reject the Null Hypothesis, thus there is a statistically significant difference in frequencies between them. "
   ]
  },
  {
   "cell_type": "code",
   "execution_count": null,
   "metadata": {},
   "outputs": [],
   "source": []
  }
 ],
 "metadata": {
  "kernelspec": {
   "display_name": "Python 3.7.6 64-bit ('anaconda3': virtualenv)",
   "language": "python",
   "name": "python37664bitanaconda3virtualenv0697af1ee67a458e9253591065064715"
  },
  "language_info": {
   "codemirror_mode": {
    "name": "ipython",
    "version": 3
   },
   "file_extension": ".py",
   "mimetype": "text/x-python",
   "name": "python",
   "nbconvert_exporter": "python",
   "pygments_lexer": "ipython3",
   "version": "3.7.6-final"
  }
 },
 "nbformat": 4,
 "nbformat_minor": 2
}